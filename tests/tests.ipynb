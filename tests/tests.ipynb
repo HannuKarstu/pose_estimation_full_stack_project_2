{
 "cells": [
  {
   "attachments": {},
   "cell_type": "markdown",
   "metadata": {},
   "source": [
    "# Unit tests\n",
    "\n",
    "Importing TensorFlow slows down unit tests. Running tests in VS Code from this Notebook keeps TensorFlow as persintent import and makes testing much faster. Even the debugging works properly."
   ]
  },
  {
   "cell_type": "code",
   "execution_count": null,
   "metadata": {},
   "outputs": [],
   "source": [
    "%reload_ext autoreload\n",
    "%autoreload 2\n",
    "\n",
    "import os\n",
    "\n",
    "from IPython.display import Image\n",
    "\n",
    "dir_path = os.getcwd()\n",
    "temp_path = os.path.join(dir_path, \"temp\")"
   ]
  },
  {
   "attachments": {},
   "cell_type": "markdown",
   "metadata": {},
   "source": [
    "## TestWebApi"
   ]
  },
  {
   "cell_type": "code",
   "execution_count": null,
   "metadata": {},
   "outputs": [],
   "source": [
    "%run -m pytest test_web_api.py::TestWebApi::test_files -s -W ignore::DeprecationWarning"
   ]
  },
  {
   "cell_type": "code",
   "execution_count": null,
   "metadata": {},
   "outputs": [],
   "source": [
    "%run -m pytest test_web_api.py::TestWebApi::test_hello -s -W ignore::DeprecationWarning"
   ]
  },
  {
   "cell_type": "code",
   "execution_count": null,
   "metadata": {},
   "outputs": [],
   "source": [
    "%run -m pytest test_web_api.py::TestWebApi::test_predict -s -W ignore::DeprecationWarning"
   ]
  },
  {
   "cell_type": "code",
   "execution_count": null,
   "metadata": {},
   "outputs": [],
   "source": [
    "%run -m pytest test_web_api.py::TestWebApi::test_items -s -W ignore::DeprecationWarning"
   ]
  },
  {
   "cell_type": "code",
   "execution_count": null,
   "metadata": {},
   "outputs": [],
   "source": [
    "%run -m pytest test_web_api.py::TestWebApi::test_post_get_delete_item -s -W ignore::DeprecationWarning"
   ]
  },
  {
   "cell_type": "code",
   "execution_count": null,
   "metadata": {},
   "outputs": [],
   "source": [
    "%run -m pytest test_web_api.py::TestWebApi::test_get_file -s -W ignore::DeprecationWarning"
   ]
  },
  {
   "cell_type": "code",
   "execution_count": null,
   "metadata": {},
   "outputs": [],
   "source": [
    "%run -m pytest test_web_api.py::TestWebApi::test_get_file_not_found -s -W ignore::DeprecationWarning"
   ]
  },
  {
   "cell_type": "code",
   "execution_count": null,
   "metadata": {},
   "outputs": [],
   "source": [
    "%run -m pytest test_web_api.py::TestWebApi::test_stats -s -W ignore::DeprecationWarning"
   ]
  },
  {
   "cell_type": "markdown",
   "metadata": {},
   "source": [
    "## TestVisualisations"
   ]
  },
  {
   "cell_type": "code",
   "execution_count": null,
   "metadata": {},
   "outputs": [],
   "source": [
    "%run -m pytest test_visualisations.py::TestVisualisations::test_keypoint_visualization_on_single_image -s -W ignore::DeprecationWarning"
   ]
  },
  {
   "cell_type": "markdown",
   "metadata": {},
   "source": [
    "# TestPoseEstimationProcess"
   ]
  },
  {
   "cell_type": "code",
   "execution_count": null,
   "metadata": {},
   "outputs": [],
   "source": [
    "%run -m pytest test_prediction.py::TestPoseEstimationProcess::test_pose_estimation_process_with_single_image -s -W ignore::DeprecationWarning"
   ]
  }
 ],
 "metadata": {
  "kernelspec": {
   "display_name": ".venv",
   "language": "python",
   "name": "python3"
  },
  "language_info": {
   "codemirror_mode": {
    "name": "ipython",
    "version": 3
   },
   "file_extension": ".py",
   "mimetype": "text/x-python",
   "name": "python",
   "nbconvert_exporter": "python",
   "pygments_lexer": "ipython3",
   "version": "3.8.10"
  },
  "orig_nbformat": 4,
  "vscode": {
   "interpreter": {
    "hash": "2cf0d22c97cb81d51b625032a2031f7ce64d23510b0758788b212f4209f3f577"
   }
  }
 },
 "nbformat": 4,
 "nbformat_minor": 2
}
